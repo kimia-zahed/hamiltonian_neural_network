{
 "cells": [
  {
   "cell_type": "code",
   "execution_count": 4,
   "metadata": {},
   "outputs": [],
   "source": [
    "import tensorflow as tf\n",
    "from tensorflow import keras"
   ]
  },
  {
   "cell_type": "code",
   "execution_count": 3,
   "metadata": {},
   "outputs": [],
   "source": [
    "import numpy as np\n",
    "import matplotlib.pyplot as plt\n",
    "from scipy import integrate\n",
    "np.random.seed(0)"
   ]
  },
  {
   "cell_type": "code",
   "execution_count": 2,
   "metadata": {},
   "outputs": [],
   "source": [
    "# from sympy import *\n",
    "# x, y = symbols('x y', real=False)\n",
    "# w=diff( x**2 + y**2, y,evaluate=True)\n",
    "# print(diff( x**2 + y**2, y))\n",
    "#3*y**2\n",
    "#diff( x**2 + y**3, y).subs({x:3, y:1})"
   ]
  },
  {
   "cell_type": "code",
   "execution_count": 8,
   "metadata": {},
   "outputs": [],
   "source": [
    "def Data(pinit_val,qinit_val):\n",
    "    def hamilton(t,r):\n",
    "        p, q =r \n",
    "        #H = p**2 + q**2 # spring hamiltonian (linear oscillator)\n",
    "        pdot= -2*q  \n",
    "        qdot=2*p\n",
    "        return pdot,qdot\n",
    "    \n",
    "    ll=108\n",
    "    sol=integrate.solve_ivp(hamilton,(0,18),(pinit_val,qinit_val),t_eval=np.linspace(0,18,ll))\n",
    "    p = sol.y[0] + (np.random.uniform(0,0.6,ll))\n",
    "    q = sol.y[1] + (np.random.uniform(0,0.6,ll))\n",
    "    return p,q\n",
    "\n",
    "    "
   ]
  },
  {
   "cell_type": "code",
   "execution_count": 9,
   "metadata": {},
   "outputs": [],
   "source": [
    "x,y=Data(1,1)"
   ]
  },
  {
   "cell_type": "code",
   "execution_count": 21,
   "metadata": {},
   "outputs": [
    {
     "name": "stdout",
     "output_type": "stream",
     "text": [
      "0.3481567945817676\n",
      "0.33207697485365495\n",
      "0.32750704321009216\n",
      "0.5591366691752888\n",
      "0.20712388037783902\n",
      "0.5885223536387887\n",
      "-0.2347307993229365\n",
      "0.2884274855439636\n",
      "-0.6898153285330098\n",
      "-0.19366611620677027\n",
      "-0.15425138427094853\n",
      "-0.9122786648671439\n",
      "-0.3255697147925112\n",
      "-0.10024762382417118\n",
      "-0.2500074525839395\n",
      "-0.31493934837536686\n",
      "0.32191205203090756\n",
      "0.07207497216167691\n",
      "0.18467805555535888\n",
      "0.4448160679224922\n",
      "0.4133931890980619\n",
      "0.5786108354815238\n",
      "0.22935220249486477\n",
      "0.1500347464751487\n",
      "0.6298264326040607\n",
      "-0.21313356779210402\n",
      "0.10093535005860388\n",
      "-0.624177552298128\n",
      "-0.19397001500366395\n",
      "-0.5565725795598943\n",
      "-0.24354402594545332\n",
      "-0.41500638985047755\n",
      "-0.5598635592846422\n",
      "-0.1502537258454848\n",
      "-0.43084692868091046\n",
      "0.1829922405219826\n",
      "0.23850148296617557\n",
      "0.260001281934098\n",
      "0.9292580829544727\n",
      "0.1915936667402351\n",
      "0.4362317935553498\n",
      "0.1605994803693686\n",
      "0.6765406179000303\n",
      "0.1630043512081023\n",
      "0.05929061743423736\n",
      "-0.13043468969262206\n",
      "-0.8627698833741384\n",
      "-0.2579902953441407\n",
      "-0.5361276762311712\n",
      "-0.16526200353671922\n",
      "-0.5979145052634125\n",
      "-0.002903636801402598\n",
      "-0.43571929378056606\n",
      "-0.3230787996999429\n",
      "0.19102289754731516\n",
      "0.5958342637110139\n",
      "0.011365586479025636\n",
      "0.8928584565427051\n",
      "0.04245260697307485\n",
      "0.44276783609656745\n",
      "0.4394794224080635\n",
      "0.33200651544625603\n",
      "-0.06578656533677107\n",
      "0.27077120920565934\n",
      "-0.5608744884946936\n",
      "-0.2138035548851951\n",
      "-0.07440069651465847\n",
      "-0.6730629362082434\n",
      "-0.3361297318113053\n",
      "-0.8875810395437704\n",
      "0.026532586118704682\n",
      "-0.14380138847657942\n",
      "-0.06071840851219834\n",
      "0.3419058450265735\n",
      "0.45392729871951554\n",
      "0.002470023639931318\n",
      "0.8457989139087949\n",
      "0.2745475186466086\n",
      "0.5877936416764282\n",
      "0.39272802251985095\n",
      "-0.2758379738469279\n",
      "-0.03743586354166972\n",
      "-0.12212857143447031\n",
      "-0.24036502565238171\n",
      "-0.3053587866696206\n",
      "-0.18999515706563094\n",
      "-0.3219162052698452\n",
      "-0.6341557792450274\n",
      "-0.2493047517310042\n",
      "-0.1711053439801702\n",
      "-0.03440258776091376\n",
      "-0.3256449851869945\n",
      "0.6558276840420914\n",
      "-0.10407701207506537\n",
      "0.811085943626771\n",
      "0.513232848051301\n",
      "0.44953818330522366\n",
      "0.038080178934774556\n",
      "0.5321897793044117\n",
      "0.028258666933758336\n",
      "-0.10673674177465253\n",
      "-0.3605820883275044\n",
      "-0.23360556486257145\n",
      "-0.1397151351416439\n",
      "-0.3831118039273014\n",
      "-0.42149192605640917\n",
      "-0.5634935947077344\n"
     ]
    }
   ],
   "source": [
    "# print(x[2])\n",
    "# x[1]+dH_dq[1]\n",
    "\n",
    "for i in range (len(x)-1):\n",
    "    print(x[i]-x[i+1])"
   ]
  },
  {
   "cell_type": "code",
   "execution_count": 11,
   "metadata": {},
   "outputs": [
    {
     "name": "stdout",
     "output_type": "stream",
     "text": [
      "tf.Tensor(\n",
      "[ 2.38402058  1.68770699  1.02355304  0.36853896 -0.74973438 -1.16398214\n",
      " -2.34102685 -1.87156525 -2.44842022 -1.06878957 -0.68145733 -0.37295457\n",
      "  1.45160276  2.10274219  2.30323744  2.80325235  3.43313104  2.78930694\n",
      "  2.645157    2.27580088  1.38616875  0.55938237 -0.5978393  -1.05654371\n",
      " -1.3566132  -2.61626606 -2.18999893 -2.39186963 -1.14351452 -0.75557449\n",
      "  0.35757067  0.84465872  1.6746715   2.79439862  3.09490607  3.95659992\n",
      "  3.59061544  3.11361248  2.59360991  0.73509375  0.35190641 -0.52055717\n",
      " -0.84175613 -2.19483737 -2.52084607 -2.63942731 -2.37855793 -0.65301816\n",
      " -0.13703757  0.93521778  1.26574179  2.4615708   2.46737807  3.33881666\n",
      "  3.98497426  3.60292847  2.41125994  2.38852877  0.60281185  0.51790664\n",
      " -0.36762903 -1.24658788 -1.91060091 -1.77902778 -2.3205702  -1.19882122\n",
      " -0.77121411 -0.62241272  0.72371315  1.39597262  3.1711347   3.11806953\n",
      "  3.4056723   3.52710912  2.84329743  1.93544283  1.93050278  0.23890496\n",
      " -0.31019008 -1.48577736 -2.27123341 -1.71955746 -1.64468573 -1.40042859\n",
      " -0.91969854 -0.30898097  0.07100935  0.71484176  1.98315332  2.48176282\n",
      "  2.82397351  2.89277868  3.54406865  2.23241329  2.44056731  0.81839542\n",
      " -0.20807027 -1.10714664 -1.183307   -2.24768656 -2.30420389 -2.09073041\n",
      " -1.36956623 -0.9023551  -0.62292483  0.14329878  0.98628263  2.11326982], shape=(108,), dtype=float64) \n",
      " tf.Tensor(\n",
      "[ 2.31454178  3.09594164  3.63144211  3.59246016  2.73593079  2.22098\n",
      "  1.15255344  0.94742297 -0.86447415 -0.92596755 -1.46018906 -1.82462703\n",
      " -2.49943371 -2.10158702 -1.29714429 -0.90176196  0.12578528  0.86311061\n",
      "  2.05442012  2.26354517  3.62836885  2.92098403  3.29451445  2.58172106\n",
      "  2.20081732  1.78474948  0.46185462 -1.18147267 -1.48081459 -1.93424171\n",
      " -2.16724707 -1.94159632 -2.06389548 -1.61269085 -0.46794867  1.14261563\n",
      "  1.15398669  2.84393488  3.04434946  3.30518643  3.86982751  3.10087822\n",
      "  2.87373463  1.7116715   1.40763083  0.20501747 -0.65950111 -1.81395257\n",
      " -1.7596523  -2.06470765 -2.38412428 -2.02396359 -0.55503822  0.5145005\n",
      "  0.85858772  1.92933507  3.02383355  3.09332357  3.95139696  3.45085414\n",
      "  3.38461699  2.86036889  1.92117257  0.20042404 -0.17094165 -1.2783762\n",
      " -2.31428509 -2.24624122 -2.50182862 -1.53332452 -1.96651647 -0.08559909\n",
      "  0.09979991  1.04756905  1.51542265  2.4265943   3.14770407  3.94369863\n",
      "  2.79203279  3.35245323  2.55784833  1.1851612   0.08669941 -0.93705284\n",
      " -1.2538956  -2.50354737 -2.79006805 -2.24491309 -2.32008988 -1.47073031\n",
      " -0.68014854  0.29106329  1.07906781  1.76759735  2.52629542  3.49581018\n",
      "  3.98097224  3.74292739  2.4997314   1.43479629  1.09729162 -0.0272214\n",
      " -0.30553562 -2.12360579 -1.72407144 -2.48231105 -2.38465977 -1.4246176 ], shape=(108,), dtype=float64)\n"
     ]
    }
   ],
   "source": [
    "tfp= tf.constant(x)\n",
    "tfq= tf.constant(y)\n",
    "with tf.GradientTape() as g:\n",
    "    g.watch([tfp,tfq])\n",
    "    H= tfp**2+ tfq**2\n",
    "    dH_dp,dH_dq = g.gradient(H, [tfp,tfq])\n",
    "    print(dH_dp,'\\n',dH_dq)"
   ]
  },
  {
   "cell_type": "code",
   "execution_count": 4,
   "metadata": {},
   "outputs": [
    {
     "data": {
      "text/plain": [
       "array([[ 1.32928810e+00,  1.13384898e+00],\n",
       "       [ 1.04288878e+00,  1.84593589e+00],\n",
       "       [ 5.20444279e-01,  1.67402748e+00],\n",
       "       [ 1.25703145e-02,  1.88670001e+00],\n",
       "       [-4.98063418e-01,  1.61754165e+00],\n",
       "       [-7.18044997e-01,  1.06099600e+00],\n",
       "       [-1.07208632e+00,  9.55864833e-01],\n",
       "       [-8.79546926e-01,  2.38487622e-01],\n",
       "       [-7.57394022e-01,  6.23159983e-02],\n",
       "       [-8.76004866e-01, -5.32418396e-01],\n",
       "       [-2.78186610e-01, -6.68270553e-01],\n",
       "       [ 1.55506303e-03, -9.63239097e-01],\n",
       "       [ 4.98205765e-01, -9.70217827e-01],\n",
       "       [ 1.16821560e+00, -9.74286766e-01],\n",
       "       [ 1.04187537e+00, -4.27481746e-01],\n",
       "       [ 1.32591657e+00, -2.28180001e-01],\n",
       "       [ 1.41777613e+00,  9.46939881e-02],\n",
       "       [ 1.87882775e+00,  6.77158663e-01],\n",
       "       [ 1.66499050e+00,  7.62812450e-01],\n",
       "       [ 1.40509645e+00,  1.28595009e+00],\n",
       "       [ 1.05575339e+00,  1.73041102e+00],\n",
       "       [ 4.81041069e-01,  1.58836471e+00],\n",
       "       [-1.88609257e-01,  1.70676539e+00],\n",
       "       [-4.12024955e-01,  1.36403569e+00],\n",
       "       [-1.12565531e+00,  8.35167330e-01],\n",
       "       [-9.94699533e-01,  4.95684131e-01],\n",
       "       [-1.31941496e+00,  1.85564108e-01],\n",
       "       [-7.08374328e-01, -2.57430138e-01],\n",
       "       [-6.88764078e-01, -6.54053609e-01],\n",
       "       [-3.66625905e-01, -8.81210476e-01],\n",
       "       [-1.73408719e-03, -1.01406807e+00],\n",
       "       [ 7.76901671e-01, -1.12078260e+00],\n",
       "       [ 1.02411729e+00, -6.60577441e-01],\n",
       "       [ 1.44542591e+00, -6.63124644e-01],\n",
       "       [ 1.34535927e+00, -2.08060785e-01],\n",
       "       [ 1.78462209e+00,  5.32618395e-01],\n",
       "       [ 1.70337000e+00,  9.48431205e-01],\n",
       "       [ 1.47776846e+00,  1.30191021e+00],\n",
       "       [ 1.32082196e+00,  1.25602729e+00],\n",
       "       [ 7.26585592e-01,  1.93013593e+00],\n",
       "       [ 6.03424655e-02,  1.83423369e+00],\n",
       "       [-3.48745055e-01,  1.87458494e+00],\n",
       "       [-5.79461176e-01,  1.09203572e+00],\n",
       "       [-1.23657192e+00,  1.13729619e+00],\n",
       "       [-1.00486027e+00,  2.58884541e-01],\n",
       "       [-9.77507297e-01,  5.78294608e-02],\n",
       "       [-1.07290720e+00, -6.75231799e-01],\n",
       "       [-8.06870892e-01, -5.94803587e-01],\n",
       "       [-2.81211702e-01, -8.49501959e-01],\n",
       "       [ 2.14743607e-01, -1.07253001e+00],\n",
       "       [ 8.05950894e-01, -1.09176432e+00],\n",
       "       [ 1.14210021e+00, -1.06680489e+00],\n",
       "       [ 1.78834018e+00, -3.36896731e-01],\n",
       "       [ 1.43925866e+00, -4.61241030e-02],\n",
       "       [ 1.53131610e+00,  5.87643923e-01],\n",
       "       [ 1.37234680e+00,  1.12990643e+00],\n",
       "       [ 1.39459959e+00,  1.58259609e+00],\n",
       "       [ 7.69297251e-01,  1.78580972e+00],\n",
       "       [ 4.42171414e-01,  1.41160224e+00],\n",
       "       [-1.63982619e-01,  1.59596321e+00],\n",
       "       [-6.53259390e-01,  1.63784256e+00],\n",
       "       [-1.03659041e+00,  9.87856018e-01],\n",
       "       [-9.39771463e-01,  7.83893958e-01],\n",
       "       [-1.33117690e+00,  3.71661338e-02],\n",
       "       [-1.21814785e+00, -3.42811971e-01],\n",
       "       [-8.87541641e-01, -8.67135578e-01],\n",
       "       [-2.63737133e-01, -7.18551695e-01],\n",
       "       [-2.60887708e-01, -1.24318515e+00],\n",
       "       [ 6.56283411e-01, -1.19891374e+00],\n",
       "       [ 6.66760837e-01, -7.19236468e-01],\n",
       "       [ 1.58234539e+00, -5.80592369e-01],\n",
       "       [ 1.55320330e+00, -5.99085818e-01],\n",
       "       [ 1.99045798e+00, -6.45048581e-02],\n",
       "       [ 1.74277836e+00,  6.82647430e-01],\n",
       "       [ 1.64405610e+00,  1.09425138e+00],\n",
       "       [ 9.09093928e-01,  1.24489345e+00],\n",
       "       [ 6.41664930e-01,  1.89362473e+00],\n",
       "       [ 7.76616680e-02,  1.78265404e+00],\n",
       "       [-2.84202311e-01,  1.65762712e+00],\n",
       "       [-8.06242268e-01,  1.46299168e+00],\n",
       "       [-1.00353349e+00,  1.19530426e+00],\n",
       "       [-1.12853584e+00,  5.07250161e-01],\n",
       "       [-1.36760606e+00,  8.62618113e-02],\n",
       "       [-8.61231819e-01, -4.82266647e-01],\n",
       "       [-6.63821697e-01, -8.83910818e-01],\n",
       "       [-4.59685188e-01, -7.04995004e-01],\n",
       "       [ 1.49566415e-01, -9.60667185e-01],\n",
       "       [ 3.65124351e-01, -1.08545869e+00],\n",
       "       [ 1.09279985e+00, -1.06444061e+00],\n",
       "       [ 1.65911864e+00, -7.33915860e-01],\n",
       "       [ 1.52363554e+00, -4.37953324e-01],\n",
       "       [ 1.81477926e+00,  2.54266903e-01],\n",
       "       [ 1.41575643e+00,  6.47978295e-01],\n",
       "       [ 1.53914649e+00,  1.29438303e+00],\n",
       "       [ 9.31578862e-01,  1.42050823e+00],\n",
       "       [ 4.30944541e-01,  1.48457914e+00],\n",
       "       [ 2.00159375e-01,  1.42073963e+00],\n",
       "       [-5.95270613e-01,  1.31760647e+00],\n",
       "       [-4.97518166e-01,  1.41206891e+00],\n",
       "       [-1.26824632e+00,  8.91843599e-01],\n",
       "       [-9.97735703e-01,  4.87336285e-01],\n",
       "       [-1.21778169e+00,  2.30208867e-01],\n",
       "       [-7.59997406e-01, -1.52210308e-01],\n",
       "       [-3.10090981e-01, -9.70847229e-01],\n",
       "       [-3.24407272e-01, -9.34129460e-01],\n",
       "       [ 3.38454110e-01, -1.25620120e+00],\n",
       "       [ 8.15141881e-01, -1.32479046e+00],\n",
       "       [ 1.21902687e+00, -6.54784352e-01]])"
      ]
     },
     "execution_count": 4,
     "metadata": {},
     "output_type": "execute_result"
    }
   ],
   "source": [
    "\n",
    "coord_list=np.array([])\n",
    "for i in range (len(x)):\n",
    "    a=(x[i],y[i])\n",
    "    coord_list=np.append(coord_list,a)\n",
    "   \n",
    "last_coord_list = np.reshape(coord_list,(len(x),2))\n",
    "last_coord_list\n",
    "np.random.shuffle(last_coord_list)"
   ]
  },
  {
   "cell_type": "code",
   "execution_count": 5,
   "metadata": {},
   "outputs": [
    {
     "data": {
      "image/png": "[encoded data removed]",
      "text/plain": [
       "<Figure size 432x288 with 1 Axes>"
      ]
     },
     "metadata": {},
     "output_type": "display_data"
    }
   ],
   "source": [
    "plt.plot(x,y,'o')\n",
    "plt.axis('scaled');"
   ]
  },
  {
   "cell_type": "code",
   "execution_count": 9,
   "metadata": {},
   "outputs": [],
   "source": [
    "train_coord,test_coord=np.split(last_coord_list,[86])\n",
    "#print(len(train_coord))\n",
    "#len(test_coord)"
   ]
  },
  {
   "cell_type": "code",
   "execution_count": 8,
   "metadata": {},
   "outputs": [],
   "source": [
    "#def loss():\n",
    "    \n",
    "    "
   ]
  },
  {
   "cell_type": "code",
   "execution_count": null,
   "metadata": {},
   "outputs": [],
   "source": [
    "def HNN():"
   ]
  },
  {
   "cell_type": "code",
   "execution_count": 10,
   "metadata": {},
   "outputs": [],
   "source": [
    "myModel=keras.models.Sequential()\n",
    "myModel.add(keras.layers.Flatten(input_shape=[2]))\n",
    "myModel.add(keras.layers.Dense(200, activation=\"tanh\"))\n",
    "myModel.add(keras.layers.Dense(200, activation=\"tanh\"))\n",
    "myModel.add(keras.layers.Dense(1, activation=\"softmax\"))"
   ]
  },
  {
   "cell_type": "code",
   "execution_count": 11,
   "metadata": {},
   "outputs": [
    {
     "name": "stdout",
     "output_type": "stream",
     "text": [
      "Model: \"sequential\"\n",
      "_________________________________________________________________\n",
      "Layer (type)                 Output Shape              Param #   \n",
      "=================================================================\n",
      "flatten (Flatten)            (None, 2)                 0         \n",
      "_________________________________________________________________\n",
      "dense (Dense)                (None, 200)               600       \n",
      "_________________________________________________________________\n",
      "dense_1 (Dense)              (None, 200)               40200     \n",
      "_________________________________________________________________\n",
      "dense_2 (Dense)              (None, 1)                 201       \n",
      "=================================================================\n",
      "Total params: 41,001\n",
      "Trainable params: 41,001\n",
      "Non-trainable params: 0\n",
      "_________________________________________________________________\n"
     ]
    }
   ],
   "source": [
    "myModel.summary()"
   ]
  },
  {
   "cell_type": "code",
   "execution_count": 12,
   "metadata": {},
   "outputs": [],
   "source": [
    "#tf.keras.losses.mean_absolute_error\n",
    "myModel.compile(loss=\"mean_absolute_error\",\n",
    "                optimizer=\"Adam\",\n",
    "                metrics=[\"accuracy\"])"
   ]
  },
  {
   "cell_type": "code",
   "execution_count": 14,
   "metadata": {},
   "outputs": [],
   "source": [
    "y_train=np.array([])\n",
    "for i in range (len(train_coord)):\n",
    "    y_train=np.append(y_train,(train_coord[i][0]**2+train_coord[i][1]**2))"
   ]
  },
  {
   "cell_type": "code",
   "execution_count": 15,
   "metadata": {},
   "outputs": [
    {
     "name": "stdout",
     "output_type": "stream",
     "text": [
      "Epoch 1/30\n",
      "3/3 [==============================] - 0s 890us/step - loss: 1.2572 - accuracy: 0.0000e+00\n",
      "Epoch 2/30\n",
      "3/3 [==============================] - 0s 838us/step - loss: 1.2572 - accuracy: 0.0000e+00\n",
      "Epoch 3/30\n",
      "3/3 [==============================] - 0s 2ms/step - loss: 1.2572 - accuracy: 0.0000e+00\n",
      "Epoch 4/30\n",
      "3/3 [==============================] - 0s 1ms/step - loss: 1.2572 - accuracy: 0.0000e+00\n",
      "Epoch 5/30\n",
      "3/3 [==============================] - 0s 2ms/step - loss: 1.2572 - accuracy: 0.0000e+00\n",
      "Epoch 6/30\n",
      "3/3 [==============================] - 0s 2ms/step - loss: 1.2572 - accuracy: 0.0000e+00\n",
      "Epoch 7/30\n",
      "3/3 [==============================] - 0s 3ms/step - loss: 1.2572 - accuracy: 0.0000e+00\n",
      "Epoch 8/30\n",
      "3/3 [==============================] - 0s 5ms/step - loss: 1.2572 - accuracy: 0.0000e+00\n",
      "Epoch 9/30\n",
      "3/3 [==============================] - 0s 2ms/step - loss: 1.2572 - accuracy: 0.0000e+00\n",
      "Epoch 10/30\n",
      "3/3 [==============================] - 0s 3ms/step - loss: 1.2572 - accuracy: 0.0000e+00\n",
      "Epoch 11/30\n",
      "3/3 [==============================] - 0s 2ms/step - loss: 1.2572 - accuracy: 0.0000e+00\n",
      "Epoch 12/30\n",
      "3/3 [==============================] - 0s 2ms/step - loss: 1.2572 - accuracy: 0.0000e+00\n",
      "Epoch 13/30\n",
      "3/3 [==============================] - 0s 2ms/step - loss: 1.2572 - accuracy: 0.0000e+00\n",
      "Epoch 14/30\n",
      "3/3 [==============================] - 0s 2ms/step - loss: 1.2572 - accuracy: 0.0000e+00\n",
      "Epoch 15/30\n",
      "3/3 [==============================] - 0s 2ms/step - loss: 1.2572 - accuracy: 0.0000e+00\n",
      "Epoch 16/30\n",
      "3/3 [==============================] - 0s 2ms/step - loss: 1.2572 - accuracy: 0.0000e+00\n",
      "Epoch 17/30\n",
      "3/3 [==============================] - 0s 3ms/step - loss: 1.2572 - accuracy: 0.0000e+00\n",
      "Epoch 18/30\n",
      "3/3 [==============================] - 0s 2ms/step - loss: 1.2572 - accuracy: 0.0000e+00\n",
      "Epoch 19/30\n",
      "3/3 [==============================] - 0s 1ms/step - loss: 1.2572 - accuracy: 0.0000e+00\n",
      "Epoch 20/30\n",
      "3/3 [==============================] - 0s 2ms/step - loss: 1.2572 - accuracy: 0.0000e+00\n",
      "Epoch 21/30\n",
      "3/3 [==============================] - 0s 2ms/step - loss: 1.2572 - accuracy: 0.0000e+00\n",
      "Epoch 22/30\n",
      "3/3 [==============================] - 0s 3ms/step - loss: 1.2572 - accuracy: 0.0000e+00\n",
      "Epoch 23/30\n",
      "3/3 [==============================] - 0s 2ms/step - loss: 1.2572 - accuracy: 0.0000e+00\n",
      "Epoch 24/30\n",
      "3/3 [==============================] - 0s 2ms/step - loss: 1.2572 - accuracy: 0.0000e+00\n",
      "Epoch 25/30\n",
      "3/3 [==============================] - 0s 2ms/step - loss: 1.2572 - accuracy: 0.0000e+00\n",
      "Epoch 26/30\n",
      "3/3 [==============================] - 0s 2ms/step - loss: 1.2572 - accuracy: 0.0000e+00\n",
      "Epoch 27/30\n",
      "3/3 [==============================] - 0s 3ms/step - loss: 1.2572 - accuracy: 0.0000e+00\n",
      "Epoch 28/30\n",
      "3/3 [==============================] - 0s 2ms/step - loss: 1.2572 - accuracy: 0.0000e+00\n",
      "Epoch 29/30\n",
      "3/3 [==============================] - 0s 2ms/step - loss: 1.2572 - accuracy: 0.0000e+00\n",
      "Epoch 30/30\n",
      "3/3 [==============================] - 0s 2ms/step - loss: 1.2572 - accuracy: 0.0000e+00\n"
     ]
    }
   ],
   "source": [
    "trainedModel=myModel.fit(train_coord, y_train, epochs=30)\n",
    "                        #,validation_data=(X_valid, y_valid))"
   ]
  },
  {
   "cell_type": "code",
   "execution_count": 16,
   "metadata": {},
   "outputs": [
    {
     "data": {
      "text/plain": [
       "<AxesSubplot:>"
      ]
     },
     "execution_count": 16,
     "metadata": {},
     "output_type": "execute_result"
    },
    {
     "data": {
      "image/png": "[encoded data removed]",
      "text/plain": [
       "<Figure size 576x360 with 1 Axes>"
      ]
     },
     "metadata": {},
     "output_type": "display_data"
    }
   ],
   "source": [
    "import pandas as pd\n",
    "pd.DataFrame(trainedModel.history).plot(figsize=(8, 5))\n"
   ]
  },
  {
   "cell_type": "code",
   "execution_count": 19,
   "metadata": {},
   "outputs": [],
   "source": [
    "y_test=np.array([])\n",
    "for i in range (len(test_coord)):\n",
    "    y_test=np.append(y_test,(test_coord[i][0]**2+test_coord[i][1]**2))"
   ]
  },
  {
   "cell_type": "code",
   "execution_count": 20,
   "metadata": {},
   "outputs": [
    {
     "name": "stdout",
     "output_type": "stream",
     "text": [
      "1/1 [==============================] - 0s 873us/step - loss: 1.4089 - accuracy: 0.0000e+00\n"
     ]
    },
    {
     "data": {
      "text/plain": [
       "[1.4089382886886597, 0.0]"
      ]
     },
     "execution_count": 20,
     "metadata": {},
     "output_type": "execute_result"
    }
   ],
   "source": [
    "myModel.evaluate(test_coord, y_test)"
   ]
  },
  {
   "cell_type": "code",
   "execution_count": null,
   "metadata": {},
   "outputs": [],
   "source": [
    "\n",
    "def hamilton(t,r):\n",
    "    p, q =r \n",
    "    #H = p**2 + q**2 # spring hamiltonian (linear oscillator)\n",
    "    pdot= -2*q  \n",
    "    qdot=2*p\n",
    "    return pdot,qdot\n",
    "    \n",
    "ll=108\n",
    "sol=integrate.solve_ivp(hamilton,(0,18),(pinit_val,qinit_val),t_eval=np.linspace(0,18,ll))\n",
    "p = sol.y[0] + (np.random.uniform(0,0.6,ll))\n",
    "q = sol.y[1] + (np.random.uniform(0,0.6,ll))\n",
    "return p,q\n"
   ]
  },
  {
   "cell_type": "code",
   "execution_count": 18,
   "metadata": {},
   "outputs": [],
   "source": [
    "a=np.array([])\n",
    "a=np.append(a,[1,2,3])"
   ]
  },
  {
   "cell_type": "code",
   "execution_count": 19,
   "metadata": {},
   "outputs": [
    {
     "data": {
      "text/plain": [
       "array([1., 2., 3.])"
      ]
     },
     "execution_count": 19,
     "metadata": {},
     "output_type": "execute_result"
    }
   ],
   "source": [
    "a"
   ]
  },
  {
   "cell_type": "code",
   "execution_count": null,
   "metadata": {},
   "outputs": [],
   "source": []
  },
  {
   "cell_type": "code",
   "execution_count": null,
   "metadata": {},
   "outputs": [],
   "source": []
  }
 ],
 "metadata": {
  "kernelspec": {
   "display_name": "Python 3",
   "language": "python",
   "name": "python3"
  },
  "language_info": {
   "codemirror_mode": {
    "name": "ipython",
    "version": 3
   },
   "file_extension": ".py",
   "mimetype": "text/x-python",
   "name": "python",
   "nbconvert_exporter": "python",
   "pygments_lexer": "ipython3",
   "version": "3.6.9"
  }
 },
 "nbformat": 4,
 "nbformat_minor": 2
}
