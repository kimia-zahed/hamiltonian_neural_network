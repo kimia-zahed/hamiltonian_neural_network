{
 "cells": [
  {
   "cell_type": "code",
   "execution_count": 1,
   "metadata": {},
   "outputs": [],
   "source": [
    "import tensorflow as tf\n",
    "from tensorflow import keras"
   ]
  },
  {
   "cell_type": "code",
   "execution_count": 2,
   "metadata": {},
   "outputs": [],
   "source": [
    "import numpy as np\n",
    "import matplotlib.pyplot as plt\n",
    "from scipy import integrate\n",
    "np.random.seed(0)"
   ]
  },
  {
   "cell_type": "code",
   "execution_count": 3,
   "metadata": {},
   "outputs": [],
   "source": [
    "def Data(pinit_val,qinit_val):\n",
    "    def hamilton(t,r):\n",
    "        p, q =r \n",
    "        #H = p**2 + q**2 # spring hamiltonian (linear oscillator)\n",
    "        pdot= -2*q  \n",
    "        qdot=2*p\n",
    "        return pdot,qdot\n",
    "    \n",
    "    ll=108\n",
    "    sol=integrate.solve_ivp(hamilton,(0,18),(pinit_val,qinit_val),t_eval=np.linspace(0,18,ll))\n",
    "    p = sol.y[0] + (np.random.uniform(0,0.6,ll))\n",
    "    q = sol.y[1] + (np.random.uniform(0,0.6,ll))\n",
    "    pdot,qdot = -2*q,2*p\n",
    "    return np.array([p,q,pdot,qdot])\n",
    "\n",
    "    "
   ]
  },
  {
   "cell_type": "code",
   "execution_count": 4,
   "metadata": {},
   "outputs": [],
   "source": [
    "full_p,full_q,full_pdot,full_qdot=Data(1,1)"
   ]
  },
  {
   "cell_type": "code",
   "execution_count": 5,
   "metadata": {},
   "outputs": [
    {
     "data": {
      "image/png": "[encoded data removed]",
      "text/plain": [
       "<Figure size 432x288 with 1 Axes>"
      ]
     },
     "metadata": {},
     "output_type": "display_data"
    }
   ],
   "source": [
    "plt.plot(full_p,full_q,'o')\n",
    "plt.axis('scaled');"
   ]
  },
  {
   "cell_type": "code",
   "execution_count": 6,
   "metadata": {},
   "outputs": [],
   "source": [
    "train_p,test_p=np.split(full_p,[86])\n",
    "train_q,test_q=np.split(full_q,[86])\n",
    "train_pdot,test_pdot=np.split(full_pdot,[86])\n",
    "train_qdot,test_qdot=np.split(full_qdot,[86])"
   ]
  },
  {
   "cell_type": "code",
   "execution_count": 7,
   "metadata": {},
   "outputs": [
    {
     "data": {
      "image/png": "[encoded data removed]",
      "text/plain": [
       "<Figure size 432x288 with 1 Axes>"
      ]
     },
     "metadata": {},
     "output_type": "display_data"
    }
   ],
   "source": [
    "plt.plot(test_p,test_q,'o')\n",
    "plt.axis('scaled');"
   ]
  },
  {
   "cell_type": "code",
   "execution_count": 8,
   "metadata": {},
   "outputs": [],
   "source": [
    "train_list=np.array([[train_p,train_q],[train_pdot,train_qdot]])\n",
    "test_list=np.array([[test_p,test_q],[test_pdot,test_qdot]])"
   ]
  },
  {
   "cell_type": "code",
   "execution_count": 9,
   "metadata": {},
   "outputs": [],
   "source": [
    "# tfp= tf.constant(x)\n",
    "# tfq= tf.constant(y)\n",
    "# with tf.GradientTape() as g:\n",
    "#     g.watch([tfp,tfq])\n",
    "#     H= tfp**2+ tfq**2\n",
    "#     dH_dp,dH_dq = g.gradient(H, [tfp,tfq])\n",
    "#     print(dH_dp,'\\n',dH_dq)"
   ]
  },
  {
   "cell_type": "code",
   "execution_count": 10,
   "metadata": {},
   "outputs": [],
   "source": [
    "#def loss():\n",
    "    \n",
    "    "
   ]
  },
  {
   "cell_type": "code",
   "execution_count": null,
   "metadata": {},
   "outputs": [],
   "source": [
    "def HNN():"
   ]
  },
  {
   "cell_type": "code",
   "execution_count": 11,
   "metadata": {},
   "outputs": [],
   "source": [
    "myModel=keras.models.Sequential()\n",
    "myModel.add(keras.layers.Flatten(input_shape=[2]))\n",
    "myModel.add(keras.layers.Dense(200, activation=\"tanh\"))\n",
    "myModel.add(keras.layers.Dense(200, activation=\"tanh\"))\n",
    "myModel.add(keras.layers.Dense(2, activation=\"softmax\"))"
   ]
  },
  {
   "cell_type": "code",
   "execution_count": 12,
   "metadata": {},
   "outputs": [
    {
     "name": "stdout",
     "output_type": "stream",
     "text": [
      "Model: \"sequential\"\n",
      "_________________________________________________________________\n",
      "Layer (type)                 Output Shape              Param #   \n",
      "=================================================================\n",
      "flatten (Flatten)            (None, 2)                 0         \n",
      "_________________________________________________________________\n",
      "dense (Dense)                (None, 200)               600       \n",
      "_________________________________________________________________\n",
      "dense_1 (Dense)              (None, 200)               40200     \n",
      "_________________________________________________________________\n",
      "dense_2 (Dense)              (None, 2)                 402       \n",
      "=================================================================\n",
      "Total params: 41,202\n",
      "Trainable params: 41,202\n",
      "Non-trainable params: 0\n",
      "_________________________________________________________________\n"
     ]
    }
   ],
   "source": [
    "myModel.summary()"
   ]
  },
  {
   "cell_type": "code",
   "execution_count": 13,
   "metadata": {},
   "outputs": [],
   "source": [
    "#tf.keras.losses.mean_absolute_error\n",
    "myModel.compile(loss=\"mean_absolute_error\",\n",
    "                optimizer=\"Adam\",\n",
    "                metrics=[\"accuracy\"])"
   ]
  },
  {
   "cell_type": "code",
   "execution_count": 15,
   "metadata": {},
   "outputs": [],
   "source": [
    "x_train=np.transpose(train_list[1])\n",
    "y_train=np.transpose(train_list[0])"
   ]
  },
  {
   "cell_type": "code",
   "execution_count": 16,
   "metadata": {},
   "outputs": [
    {
     "name": "stdout",
     "output_type": "stream",
     "text": [
      "Epoch 1/20\n",
      "3/3 [==============================] - 0s 1ms/step - loss: 0.8420 - accuracy: 0.7674\n",
      "Epoch 2/20\n",
      "3/3 [==============================] - 0s 921us/step - loss: 0.7523 - accuracy: 0.9302\n",
      "Epoch 3/20\n",
      "3/3 [==============================] - 0s 2ms/step - loss: 0.7458 - accuracy: 1.0000\n",
      "Epoch 4/20\n",
      "3/3 [==============================] - 0s 2ms/step - loss: 0.7451 - accuracy: 0.9884\n",
      "Epoch 5/20\n",
      "3/3 [==============================] - 0s 2ms/step - loss: 0.7450 - accuracy: 0.9884\n",
      "Epoch 6/20\n",
      "3/3 [==============================] - 0s 2ms/step - loss: 0.7449 - accuracy: 0.9884\n",
      "Epoch 7/20\n",
      "3/3 [==============================] - 0s 2ms/step - loss: 0.7449 - accuracy: 0.9884\n",
      "Epoch 8/20\n",
      "3/3 [==============================] - 0s 2ms/step - loss: 0.7448 - accuracy: 0.9884\n",
      "Epoch 9/20\n",
      "3/3 [==============================] - 0s 3ms/step - loss: 0.7448 - accuracy: 0.9884\n",
      "Epoch 10/20\n",
      "3/3 [==============================] - 0s 2ms/step - loss: 0.7448 - accuracy: 0.9884\n",
      "Epoch 11/20\n",
      "3/3 [==============================] - 0s 3ms/step - loss: 0.7448 - accuracy: 0.9884\n",
      "Epoch 12/20\n",
      "3/3 [==============================] - 0s 2ms/step - loss: 0.7448 - accuracy: 0.9884\n",
      "Epoch 13/20\n",
      "3/3 [==============================] - 0s 2ms/step - loss: 0.7448 - accuracy: 0.9884\n",
      "Epoch 14/20\n",
      "3/3 [==============================] - 0s 3ms/step - loss: 0.7448 - accuracy: 0.9884\n",
      "Epoch 15/20\n",
      "3/3 [==============================] - 0s 3ms/step - loss: 0.7448 - accuracy: 0.9884\n",
      "Epoch 16/20\n",
      "3/3 [==============================] - 0s 3ms/step - loss: 0.7448 - accuracy: 0.9884\n",
      "Epoch 17/20\n",
      "3/3 [==============================] - 0s 2ms/step - loss: 0.7448 - accuracy: 0.9884\n",
      "Epoch 18/20\n",
      "3/3 [==============================] - 0s 3ms/step - loss: 0.7448 - accuracy: 0.9884\n",
      "Epoch 19/20\n",
      "3/3 [==============================] - 0s 2ms/step - loss: 0.7448 - accuracy: 0.9884\n",
      "Epoch 20/20\n",
      "3/3 [==============================] - 0s 2ms/step - loss: 0.7448 - accuracy: 0.9884\n"
     ]
    }
   ],
   "source": [
    "trainedModel=myModel.fit(x_train,y_train, epochs=20)\n",
    "                        #,validation_data=(X_valid, y_valid))"
   ]
  },
  {
   "cell_type": "code",
   "execution_count": 17,
   "metadata": {},
   "outputs": [
    {
     "data": {
      "text/plain": [
       "<AxesSubplot:>"
      ]
     },
     "execution_count": 17,
     "metadata": {},
     "output_type": "execute_result"
    },
    {
     "data": {
      "image/png": "[encoded data removed]",
      "text/plain": [
       "<Figure size 576x360 with 1 Axes>"
      ]
     },
     "metadata": {},
     "output_type": "display_data"
    }
   ],
   "source": [
    "import pandas as pd\n",
    "pd.DataFrame(trainedModel.history).plot(figsize=(8, 5))\n"
   ]
  },
  {
   "cell_type": "code",
   "execution_count": 18,
   "metadata": {},
   "outputs": [],
   "source": [
    "x_test=np.transpose(test_list[1])\n",
    "y_test=np.transpose(test_list[0])"
   ]
  },
  {
   "cell_type": "code",
   "execution_count": 19,
   "metadata": {},
   "outputs": [
    {
     "name": "stdout",
     "output_type": "stream",
     "text": [
      "1/1 [==============================] - 0s 670us/step - loss: 0.7125 - accuracy: 1.0000\n"
     ]
    },
    {
     "data": {
      "text/plain": [
       "[0.712455689907074, 1.0]"
      ]
     },
     "execution_count": 19,
     "metadata": {},
     "output_type": "execute_result"
    }
   ],
   "source": [
    "myModel.evaluate(x_test, y_test)"
   ]
  },
  {
   "cell_type": "code",
   "execution_count": null,
   "metadata": {},
   "outputs": [],
   "source": []
  },
  {
   "cell_type": "code",
   "execution_count": null,
   "metadata": {},
   "outputs": [],
   "source": []
  }
 ],
 "metadata": {
  "kernelspec": {
   "display_name": "Python 3",
   "language": "python",
   "name": "python3"
  },
  "language_info": {
   "codemirror_mode": {
    "name": "ipython",
    "version": 3
   },
   "file_extension": ".py",
   "mimetype": "text/x-python",
   "name": "python",
   "nbconvert_exporter": "python",
   "pygments_lexer": "ipython3",
   "version": "3.6.9"
  }
 },
 "nbformat": 4,
 "nbformat_minor": 2
}
