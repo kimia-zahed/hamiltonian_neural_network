{
 "cells": [
  {
   "cell_type": "code",
   "execution_count": 1,
   "metadata": {},
   "outputs": [],
   "source": [
    "import tensorflow as tf\n",
    "from tensorflow import keras"
   ]
  },
  {
   "cell_type": "code",
   "execution_count": 2,
   "metadata": {},
   "outputs": [],
   "source": [
    "import numpy as np\n",
    "import matplotlib.pyplot as plt\n",
    "from scipy import integrate\n",
    "np.random.seed(0)"
   ]
  },
  {
   "cell_type": "code",
   "execution_count": 3,
   "metadata": {},
   "outputs": [],
   "source": [
    "def Data(pinit_val,qinit_val):\n",
    "    def hamilton(t,r):\n",
    "        p, q =r \n",
    "        #H = p**2 + q**2 # spring hamiltonian (linear oscillator)\n",
    "        pdot= -2*q  \n",
    "        qdot=2*p\n",
    "        return pdot,qdot\n",
    "    \n",
    "    ll=120\n",
    "    sol=integrate.solve_ivp(hamilton,(0,24),(pinit_val,qinit_val),t_eval=np.linspace(0,24,ll))\n",
    "    p = sol.y[0] + (np.random.uniform(0,0.6,ll))\n",
    "    q = sol.y[1] + (np.random.uniform(0,0.6,ll))\n",
    "    pdot,qdot = -2*q,2*p\n",
    "    return np.array([p,q,pdot,qdot])\n",
    "\n",
    "    "
   ]
  },
  {
   "cell_type": "code",
   "execution_count": 4,
   "metadata": {},
   "outputs": [],
   "source": [
    "full_p,full_q,full_pdot,full_qdot=Data(1,1)"
   ]
  },
  {
   "cell_type": "code",
   "execution_count": 5,
   "metadata": {},
   "outputs": [
    {
     "data": {
      "image/png": "[encoded data removed]",
      "text/plain": [
       "<Figure size 432x288 with 1 Axes>"
      ]
     },
     "metadata": {},
     "output_type": "display_data"
    }
   ],
   "source": [
    "plt.plot(full_p,full_q,'o')\n",
    "plt.axis('scaled');"
   ]
  },
  {
   "cell_type": "code",
   "execution_count": 9,
   "metadata": {},
   "outputs": [],
   "source": [
    "train_p,fulltest_p=np.split(full_p,[80])\n",
    "train_q,fulltest_q=np.split(full_q,[80])\n",
    "train_pdot,fulltest_pdot=np.split(full_pdot,[80])\n",
    "train_qdot,fulltest_qdot=np.split(full_qdot,[80])"
   ]
  },
  {
   "cell_type": "code",
   "execution_count": 10,
   "metadata": {},
   "outputs": [],
   "source": [
    "test_p,new_p=np.split(fulltest_p,[20])\n",
    "test_q,new_q=np.split(fulltest_q,[20])\n",
    "test_pdot,new_pdot=np.split(fulltest_pdot,[20])\n",
    "test_qdot,new_qdot=np.split(fulltest_qdot,[20])"
   ]
  },
  {
   "cell_type": "code",
   "execution_count": 30,
   "metadata": {},
   "outputs": [
    {
     "data": {
      "text/plain": [
       "array([ 0.06187991,  0.76675225,  2.19218729,  1.86344533,  2.44658398,\n",
       "        0.94613348,  0.34739802, -0.19023269, -2.18375339, -2.87144689,\n",
       "       -2.92575085, -3.08282757, -3.20169234, -1.94707907, -1.19561318,\n",
       "       -0.33431298,  0.82059792,  1.60326922,  2.36908187,  2.10723497])"
      ]
     },
     "execution_count": 30,
     "metadata": {},
     "output_type": "execute_result"
    }
   ],
   "source": [
    "new_pdot"
   ]
  },
  {
   "cell_type": "code",
   "execution_count": 11,
   "metadata": {},
   "outputs": [
    {
     "data": {
      "image/png": "[encoded data removed]",
      "text/plain": [
       "<Figure size 432x288 with 1 Axes>"
      ]
     },
     "metadata": {},
     "output_type": "display_data"
    }
   ],
   "source": [
    "plt.plot(test_p,test_q,'o')\n",
    "plt.axis('scaled');"
   ]
  },
  {
   "cell_type": "code",
   "execution_count": 12,
   "metadata": {},
   "outputs": [],
   "source": [
    "train_list=np.array([[train_p,train_q],[train_pdot,train_qdot]])\n",
    "test_list=np.array([[test_p,test_q],[test_pdot,test_qdot]])\n",
    "new_list=np.array([[new_p,new_q],[new_pdot,new_qdot]])"
   ]
  },
  {
   "cell_type": "code",
   "execution_count": 10,
   "metadata": {},
   "outputs": [],
   "source": [
    "# tfp= tf.constant(x)\n",
    "# tfq= tf.constant(y)\n",
    "# with tf.GradientTape() as g:\n",
    "#     g.watch([tfp,tfq])\n",
    "#     H= tfp**2+ tfq**2\n",
    "#     dH_dp,dH_dq = g.gradient(H, [tfp,tfq])\n",
    "#     print(dH_dp,'\\n',dH_dq)"
   ]
  },
  {
   "cell_type": "code",
   "execution_count": 11,
   "metadata": {},
   "outputs": [],
   "source": [
    "#def loss():\n",
    "    \n",
    "    "
   ]
  },
  {
   "cell_type": "code",
   "execution_count": null,
   "metadata": {},
   "outputs": [],
   "source": [
    "def HNN():"
   ]
  },
  {
   "cell_type": "code",
   "execution_count": 13,
   "metadata": {},
   "outputs": [],
   "source": [
    "myModel=keras.models.Sequential()\n",
    "myModel.add(keras.layers.Flatten(input_shape=[2]))\n",
    "myModel.add(keras.layers.Dense(200, activation=\"tanh\"))\n",
    "myModel.add(keras.layers.Dense(200, activation=\"tanh\"))\n",
    "myModel.add(keras.layers.Dense(2, activation=\"softmax\"))"
   ]
  },
  {
   "cell_type": "code",
   "execution_count": 14,
   "metadata": {},
   "outputs": [
    {
     "name": "stdout",
     "output_type": "stream",
     "text": [
      "Model: \"sequential\"\n",
      "_________________________________________________________________\n",
      "Layer (type)                 Output Shape              Param #   \n",
      "=================================================================\n",
      "flatten (Flatten)            (None, 2)                 0         \n",
      "_________________________________________________________________\n",
      "dense (Dense)                (None, 200)               600       \n",
      "_________________________________________________________________\n",
      "dense_1 (Dense)              (None, 200)               40200     \n",
      "_________________________________________________________________\n",
      "dense_2 (Dense)              (None, 2)                 402       \n",
      "=================================================================\n",
      "Total params: 41,202\n",
      "Trainable params: 41,202\n",
      "Non-trainable params: 0\n",
      "_________________________________________________________________\n"
     ]
    }
   ],
   "source": [
    "myModel.summary()"
   ]
  },
  {
   "cell_type": "code",
   "execution_count": 15,
   "metadata": {},
   "outputs": [],
   "source": [
    "#tf.keras.losses.mean_absolute_error\n",
    "myModel.compile(loss=\"mean_squared_error\",\n",
    "                optimizer=\"Adam\",\n",
    "                metrics=[\"accuracy\"])"
   ]
  },
  {
   "cell_type": "code",
   "execution_count": 16,
   "metadata": {},
   "outputs": [],
   "source": [
    "x_train=np.transpose(train_list[1])\n",
    "y_train=np.transpose(train_list[0])"
   ]
  },
  {
   "cell_type": "code",
   "execution_count": 17,
   "metadata": {},
   "outputs": [
    {
     "name": "stdout",
     "output_type": "stream",
     "text": [
      "Epoch 1/20\n",
      "3/3 [==============================] - 0s 2ms/step - loss: 0.7713 - accuracy: 0.8750\n",
      "Epoch 2/20\n",
      "3/3 [==============================] - 0s 2ms/step - loss: 0.6299 - accuracy: 0.9875\n",
      "Epoch 3/20\n",
      "3/3 [==============================] - 0s 2ms/step - loss: 0.6155 - accuracy: 1.0000\n",
      "Epoch 4/20\n",
      "3/3 [==============================] - 0s 2ms/step - loss: 0.6151 - accuracy: 1.0000\n",
      "Epoch 5/20\n",
      "3/3 [==============================] - 0s 2ms/step - loss: 0.6162 - accuracy: 0.9750\n",
      "Epoch 6/20\n",
      "3/3 [==============================] - 0s 4ms/step - loss: 0.6168 - accuracy: 1.0000\n",
      "Epoch 7/20\n",
      "3/3 [==============================] - 0s 2ms/step - loss: 0.6172 - accuracy: 1.0000\n",
      "Epoch 8/20\n",
      "3/3 [==============================] - 0s 3ms/step - loss: 0.6176 - accuracy: 1.0000\n",
      "Epoch 9/20\n",
      "3/3 [==============================] - 0s 3ms/step - loss: 0.6178 - accuracy: 1.0000\n",
      "Epoch 10/20\n",
      "3/3 [==============================] - 0s 2ms/step - loss: 0.6177 - accuracy: 1.0000\n",
      "Epoch 11/20\n",
      "3/3 [==============================] - 0s 2ms/step - loss: 0.6176 - accuracy: 1.0000\n",
      "Epoch 12/20\n",
      "3/3 [==============================] - 0s 2ms/step - loss: 0.6178 - accuracy: 0.9875\n",
      "Epoch 13/20\n",
      "3/3 [==============================] - 0s 2ms/step - loss: 0.6178 - accuracy: 0.9750\n",
      "Epoch 14/20\n",
      "3/3 [==============================] - 0s 2ms/step - loss: 0.6173 - accuracy: 0.9875\n",
      "Epoch 15/20\n",
      "3/3 [==============================] - 0s 3ms/step - loss: 0.6170 - accuracy: 0.9875\n",
      "Epoch 16/20\n",
      "3/3 [==============================] - 0s 2ms/step - loss: 0.6171 - accuracy: 0.9875\n",
      "Epoch 17/20\n",
      "3/3 [==============================] - 0s 3ms/step - loss: 0.6170 - accuracy: 0.9875\n",
      "Epoch 18/20\n",
      "3/3 [==============================] - 0s 2ms/step - loss: 0.6166 - accuracy: 0.9875\n",
      "Epoch 19/20\n",
      "3/3 [==============================] - 0s 3ms/step - loss: 0.6165 - accuracy: 0.9750\n",
      "Epoch 20/20\n",
      "3/3 [==============================] - 0s 2ms/step - loss: 0.6165 - accuracy: 0.9625\n"
     ]
    }
   ],
   "source": [
    "trainedModel=myModel.fit(x_train,y_train, epochs=20)\n",
    "                        #,validation_data=(X_valid, y_valid))"
   ]
  },
  {
   "cell_type": "code",
   "execution_count": 18,
   "metadata": {},
   "outputs": [
    {
     "data": {
      "text/plain": [
       "<AxesSubplot:>"
      ]
     },
     "execution_count": 18,
     "metadata": {},
     "output_type": "execute_result"
    },
    {
     "data": {
      "image/png": "[encoded data removed]",
      "text/plain": [
       "<Figure size 576x360 with 1 Axes>"
      ]
     },
     "metadata": {},
     "output_type": "display_data"
    }
   ],
   "source": [
    "import pandas as pd\n",
    "pd.DataFrame(trainedModel.history).plot(figsize=(8, 5))\n"
   ]
  },
  {
   "cell_type": "code",
   "execution_count": 19,
   "metadata": {},
   "outputs": [],
   "source": [
    "x_test=np.transpose(test_list[1])\n",
    "y_test=np.transpose(test_list[0])"
   ]
  },
  {
   "cell_type": "code",
   "execution_count": 20,
   "metadata": {},
   "outputs": [
    {
     "name": "stdout",
     "output_type": "stream",
     "text": [
      "1/1 [==============================] - 0s 2ms/step - loss: 0.6206 - accuracy: 1.0000\n"
     ]
    },
    {
     "data": {
      "text/plain": [
       "[0.6206342577934265, 1.0]"
      ]
     },
     "execution_count": 20,
     "metadata": {},
     "output_type": "execute_result"
    }
   ],
   "source": [
    "myModel.evaluate(x_test, y_test)"
   ]
  },
  {
   "cell_type": "code",
   "execution_count": 21,
   "metadata": {},
   "outputs": [],
   "source": [
    "newx_test=np.transpose(test_list[1])\n",
    "newy_test=np.transpose(test_list[0])"
   ]
  },
  {
   "cell_type": "code",
   "execution_count": 22,
   "metadata": {},
   "outputs": [],
   "source": [
    "y_pred = myModel.predict(newx_test)"
   ]
  },
  {
   "cell_type": "code",
   "execution_count": 23,
   "metadata": {},
   "outputs": [
    {
     "data": {
      "text/plain": [
       "array([[1.2474547e-03, 9.9875259e-01],\n",
       "       [1.5834982e-04, 9.9984157e-01],\n",
       "       [8.5904503e-05, 9.9991405e-01],\n",
       "       [9.8176510e-04, 9.9901819e-01],\n",
       "       [9.8204007e-03, 9.9017954e-01],\n",
       "       [9.0702116e-02, 9.0929794e-01],\n",
       "       [5.9018564e-01, 4.0981439e-01],\n",
       "       [9.6243429e-01, 3.7565712e-02],\n",
       "       [9.9901390e-01, 9.8613801e-04],\n",
       "       [9.9967194e-01, 3.2809220e-04],\n",
       "       [9.9843174e-01, 1.5682576e-03],\n",
       "       [9.9944109e-01, 5.5884226e-04],\n",
       "       [9.5382863e-01, 4.6171404e-02],\n",
       "       [9.0976638e-01, 9.0233661e-02],\n",
       "       [1.7689092e-01, 8.2310915e-01],\n",
       "       [1.6044680e-03, 9.9839550e-01],\n",
       "       [1.0025100e-03, 9.9899751e-01],\n",
       "       [8.4450461e-05, 9.9991560e-01],\n",
       "       [2.9616398e-04, 9.9970382e-01],\n",
       "       [1.3985675e-04, 9.9986017e-01]], dtype=float32)"
      ]
     },
     "execution_count": 23,
     "metadata": {},
     "output_type": "execute_result"
    }
   ],
   "source": [
    "y_pred"
   ]
  },
  {
   "cell_type": "code",
   "execution_count": 24,
   "metadata": {},
   "outputs": [],
   "source": [
    "pred_pdot,pred_qdot=np.transpose(y_pred)"
   ]
  },
  {
   "cell_type": "code",
   "execution_count": 25,
   "metadata": {},
   "outputs": [
    {
     "name": "stdout",
     "output_type": "stream",
     "text": [
      "20\n",
      "20\n"
     ]
    }
   ],
   "source": [
    "print(len(pred_qdot))\n",
    "print(len(pred_pdot))\n"
   ]
  },
  {
   "cell_type": "code",
   "execution_count": 26,
   "metadata": {},
   "outputs": [
    {
     "data": {
      "text/plain": [
       "array([[ 0.0815165 ,  1.59688389],\n",
       "       [-0.40528178,  1.67183369],\n",
       "       [-1.05502207,  1.12267739],\n",
       "       [-0.94246923,  0.5027379 ],\n",
       "       [-1.06356194, -0.15506697],\n",
       "       [-1.06512886, -0.66717979],\n",
       "       [-0.53447431, -0.72358555],\n",
       "       [-0.27945936, -1.10110569],\n",
       "       [ 0.57577425, -1.07347778],\n",
       "       [ 1.31705407, -0.65436524],\n",
       "       [ 1.35807648, -0.20444015],\n",
       "       [ 1.78695776, -0.14630868],\n",
       "       [ 1.46289971,  0.68816271],\n",
       "       [ 1.5888883 ,  0.96819863],\n",
       "       [ 0.92098921,  1.21234785],\n",
       "       [ 0.32629118,  1.85257105],\n",
       "       [ 0.00230628,  1.56183224],\n",
       "       [-0.84751038,  1.35273643],\n",
       "       [-0.7338112 ,  1.04820669],\n",
       "       [-1.40230659,  0.65440883]])"
      ]
     },
     "execution_count": 26,
     "metadata": {},
     "output_type": "execute_result"
    }
   ],
   "source": [
    "y_test"
   ]
  },
  {
   "cell_type": "code",
   "execution_count": null,
   "metadata": {},
   "outputs": [],
   "source": []
  },
  {
   "cell_type": "code",
   "execution_count": 27,
   "metadata": {},
   "outputs": [
    {
     "data": {
      "image/png": "[encoded data removed]",
      "text/plain": [
       "<Figure size 432x288 with 1 Axes>"
      ]
     },
     "metadata": {},
     "output_type": "display_data"
    }
   ],
   "source": [
    "plt.plot(new_pdot,new_qdot,'o')\n",
    "plt.axis('scaled');"
   ]
  },
  {
   "cell_type": "code",
   "execution_count": 32,
   "metadata": {},
   "outputs": [
    {
     "name": "stdout",
     "output_type": "stream",
     "text": [
      "-1.8327413814137956\n",
      "-1.077874827770765\n",
      "1.7917408967200896\n",
      "2.8276986644689917\n",
      "3.6780396203873247\n",
      "3.5435065206791707\n",
      "3.6304663753695836\n",
      "3.3239513973680745\n",
      "0.7103460391308158\n",
      "0.2763050179528461\n",
      "-1.3283444070575325\n",
      "-2.1208593448063384\n",
      "-3.521540756015992\n",
      "-3.668695290558156\n",
      "-2.8838914798826614\n",
      "-2.680477623723082\n",
      "-0.6485047887578446\n",
      "0.4749995593294831\n",
      "2.596594802001479\n",
      "3.235021143950314\n"
     ]
    }
   ],
   "source": [
    "for i in range (len(new_pdot)):\n",
    "    H=new_pdot[i]+new_qdot[i]\n",
    "    print(H)"
   ]
  },
  {
   "cell_type": "code",
   "execution_count": 33,
   "metadata": {},
   "outputs": [
    {
     "name": "stdout",
     "output_type": "stream",
     "text": [
      "1.0\n",
      "0.99999994\n",
      "0.99999994\n",
      "0.99999994\n",
      "0.99999994\n",
      "1.0\n",
      "1.0\n",
      "1.0\n",
      "1.0\n",
      "1.0\n",
      "1.0\n",
      "0.99999994\n",
      "1.0\n",
      "1.0\n",
      "1.0000001\n",
      "1.0\n",
      "1.0\n",
      "1.0\n",
      "1.0\n",
      "1.0\n"
     ]
    }
   ],
   "source": [
    "for i in range (len(new_pdot)):\n",
    "    H=pred_pdot[i]+pred_qdot[i]\n",
    "    print(H)"
   ]
  },
  {
   "cell_type": "code",
   "execution_count": 28,
   "metadata": {},
   "outputs": [
    {
     "data": {
      "image/png": "[encoded data removed]",
      "text/plain": [
       "<Figure size 432x288 with 1 Axes>"
      ]
     },
     "metadata": {},
     "output_type": "display_data"
    }
   ],
   "source": [
    "plt.plot(pred_pdot,pred_qdot,'o')\n",
    "plt.axis('scaled');"
   ]
  },
  {
   "cell_type": "code",
   "execution_count": null,
   "metadata": {},
   "outputs": [],
   "source": []
  }
 ],
 "metadata": {
  "kernelspec": {
   "display_name": "Python 3",
   "language": "python",
   "name": "python3"
  },
  "language_info": {
   "codemirror_mode": {
    "name": "ipython",
    "version": 3
   },
   "file_extension": ".py",
   "mimetype": "text/x-python",
   "name": "python",
   "nbconvert_exporter": "python",
   "pygments_lexer": "ipython3",
   "version": "3.6.9"
  }
 },
 "nbformat": 4,
 "nbformat_minor": 2
}
