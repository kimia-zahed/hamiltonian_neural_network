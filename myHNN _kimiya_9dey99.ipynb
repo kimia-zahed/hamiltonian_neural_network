{
 "cells": [
  {
   "cell_type": "code",
   "execution_count": 3,
   "metadata": {},
   "outputs": [],
   "source": [
    "import tensorflow as tf\n",
    "from tensorflow import keras"
   ]
  },
  {
   "cell_type": "code",
   "execution_count": 4,
   "metadata": {},
   "outputs": [],
   "source": [
    "import numpy as np\n",
    "import matplotlib.pyplot as plt\n",
    "from scipy import integrate\n",
    "np.random.seed(0)"
   ]
  },
  {
   "cell_type": "code",
   "execution_count": 5,
   "metadata": {},
   "outputs": [],
   "source": [
    "# from sympy import *\n",
    "# x, y = symbols('x y', real=False)\n",
    "# w=diff( x**2 + y**2, y,evaluate=True)\n",
    "# print(diff( x**2 + y**2, y))\n",
    "#3*y**2\n",
    "#diff( x**2 + y**3, y).subs({x:3, y:1})"
   ]
  },
  {
   "cell_type": "code",
   "execution_count": 6,
   "metadata": {},
   "outputs": [],
   "source": [
    "def Data(pinit_val,qinit_val):\n",
    "    def hamilton(t,r):\n",
    "        p, q =r \n",
    "        #H = p**2 + q**2 # spring hamiltonian (linear oscillator)\n",
    "        pdot= -2*q  \n",
    "        qdot=2*p\n",
    "        return pdot,qdot\n",
    "    \n",
    "    ll=108\n",
    "    sol=integrate.solve_ivp(hamilton,(0,18),(pinit_val,qinit_val),t_eval=np.linspace(0,18,ll))\n",
    "    p = sol.y[0] + (np.random.uniform(0,0.6,ll))\n",
    "    q = sol.y[1] + (np.random.uniform(0,0.6,ll))\n",
    "    return p,q\n"
   ]
  },
  {
   "cell_type": "code",
   "execution_count": 7,
   "metadata": {},
   "outputs": [],
   "source": [
    "x,y=Data(1,1)\n",
    "coord_list=np.array([])\n",
    "for i in range (len(x)):\n",
    "    a=(x[i],y[i])\n",
    "    coord_list=np.append(coord_list,a)\n",
    "   \n",
    "last_coord_list = np.reshape(coord_list,(len(x),2))\n",
    "np.random.shuffle(last_coord_list)"
   ]
  },
  {
   "cell_type": "code",
   "execution_count": 8,
   "metadata": {},
   "outputs": [
    {
     "data": {
      "image/png": "[encoded data removed]",
      "text/plain": [
       "<Figure size 432x288 with 1 Axes>"
      ]
     },
     "metadata": {},
     "output_type": "display_data"
    }
   ],
   "source": [
    "plt.plot(x,y,'o')\n",
    "plt.axis('scaled');"
   ]
  },
  {
   "cell_type": "code",
   "execution_count": 9,
   "metadata": {},
   "outputs": [],
   "source": [
    "train_coord,test_coord=np.split(last_coord_list,[86])\n",
    "#print(len(train_coord))\n",
    "#len(test_coord)"
   ]
  },
  {
   "cell_type": "code",
   "execution_count": 8,
   "metadata": {},
   "outputs": [],
   "source": [
    "#def loss():\n",
    "    \n",
    "    "
   ]
  },
  {
   "cell_type": "code",
   "execution_count": null,
   "metadata": {},
   "outputs": [],
   "source": [
    "def HNN():"
   ]
  },
  {
   "cell_type": "code",
   "execution_count": 10,
   "metadata": {},
   "outputs": [],
   "source": [
    "myModel=keras.models.Sequential()\n",
    "myModel.add(keras.layers.Flatten(input_shape=[2]))\n",
    "myModel.add(keras.layers.Dense(200, activation=\"tanh\"))\n",
    "myModel.add(keras.layers.Dense(200, activation=\"tanh\"))\n",
    "myModel.add(keras.layers.Dense(1, activation=\"softmax\"))"
   ]
  },
  {
   "cell_type": "code",
   "execution_count": 11,
   "metadata": {},
   "outputs": [
    {
     "name": "stdout",
     "output_type": "stream",
     "text": [
      "Model: \"sequential\"\n",
      "_________________________________________________________________\n",
      "Layer (type)                 Output Shape              Param #   \n",
      "=================================================================\n",
      "flatten (Flatten)            (None, 2)                 0         \n",
      "_________________________________________________________________\n",
      "dense (Dense)                (None, 200)               600       \n",
      "_________________________________________________________________\n",
      "dense_1 (Dense)              (None, 200)               40200     \n",
      "_________________________________________________________________\n",
      "dense_2 (Dense)              (None, 1)                 201       \n",
      "=================================================================\n",
      "Total params: 41,001\n",
      "Trainable params: 41,001\n",
      "Non-trainable params: 0\n",
      "_________________________________________________________________\n"
     ]
    }
   ],
   "source": [
    "myModel.summary()"
   ]
  },
  {
   "cell_type": "code",
   "execution_count": 12,
   "metadata": {},
   "outputs": [],
   "source": [
    "#tf.keras.losses.mean_absolute_error\n",
    "myModel.compile(loss=\"mean_absolute_error\",\n",
    "                optimizer=\"Adam\",\n",
    "                metrics=[\"accuracy\"])"
   ]
  },
  {
   "cell_type": "code",
   "execution_count": 14,
   "metadata": {},
   "outputs": [],
   "source": [
    "y_train=np.array([])\n",
    "for i in range (len(train_coord)):\n",
    "    y_train=np.append(y_train,(train_coord[i][0]**2+train_coord[i][1]**2))"
   ]
  },
  {
   "cell_type": "code",
   "execution_count": 15,
   "metadata": {},
   "outputs": [
    {
     "name": "stdout",
     "output_type": "stream",
     "text": [
      "Epoch 1/30\n",
      "3/3 [==============================] - 0s 890us/step - loss: 1.2572 - accuracy: 0.0000e+00\n",
      "Epoch 2/30\n",
      "3/3 [==============================] - 0s 838us/step - loss: 1.2572 - accuracy: 0.0000e+00\n",
      "Epoch 3/30\n",
      "3/3 [==============================] - 0s 2ms/step - loss: 1.2572 - accuracy: 0.0000e+00\n",
      "Epoch 4/30\n",
      "3/3 [==============================] - 0s 1ms/step - loss: 1.2572 - accuracy: 0.0000e+00\n",
      "Epoch 5/30\n",
      "3/3 [==============================] - 0s 2ms/step - loss: 1.2572 - accuracy: 0.0000e+00\n",
      "Epoch 6/30\n",
      "3/3 [==============================] - 0s 2ms/step - loss: 1.2572 - accuracy: 0.0000e+00\n",
      "Epoch 7/30\n",
      "3/3 [==============================] - 0s 3ms/step - loss: 1.2572 - accuracy: 0.0000e+00\n",
      "Epoch 8/30\n",
      "3/3 [==============================] - 0s 5ms/step - loss: 1.2572 - accuracy: 0.0000e+00\n",
      "Epoch 9/30\n",
      "3/3 [==============================] - 0s 2ms/step - loss: 1.2572 - accuracy: 0.0000e+00\n",
      "Epoch 10/30\n",
      "3/3 [==============================] - 0s 3ms/step - loss: 1.2572 - accuracy: 0.0000e+00\n",
      "Epoch 11/30\n",
      "3/3 [==============================] - 0s 2ms/step - loss: 1.2572 - accuracy: 0.0000e+00\n",
      "Epoch 12/30\n",
      "3/3 [==============================] - 0s 2ms/step - loss: 1.2572 - accuracy: 0.0000e+00\n",
      "Epoch 13/30\n",
      "3/3 [==============================] - 0s 2ms/step - loss: 1.2572 - accuracy: 0.0000e+00\n",
      "Epoch 14/30\n",
      "3/3 [==============================] - 0s 2ms/step - loss: 1.2572 - accuracy: 0.0000e+00\n",
      "Epoch 15/30\n",
      "3/3 [==============================] - 0s 2ms/step - loss: 1.2572 - accuracy: 0.0000e+00\n",
      "Epoch 16/30\n",
      "3/3 [==============================] - 0s 2ms/step - loss: 1.2572 - accuracy: 0.0000e+00\n",
      "Epoch 17/30\n",
      "3/3 [==============================] - 0s 3ms/step - loss: 1.2572 - accuracy: 0.0000e+00\n",
      "Epoch 18/30\n",
      "3/3 [==============================] - 0s 2ms/step - loss: 1.2572 - accuracy: 0.0000e+00\n",
      "Epoch 19/30\n",
      "3/3 [==============================] - 0s 1ms/step - loss: 1.2572 - accuracy: 0.0000e+00\n",
      "Epoch 20/30\n",
      "3/3 [==============================] - 0s 2ms/step - loss: 1.2572 - accuracy: 0.0000e+00\n",
      "Epoch 21/30\n",
      "3/3 [==============================] - 0s 2ms/step - loss: 1.2572 - accuracy: 0.0000e+00\n",
      "Epoch 22/30\n",
      "3/3 [==============================] - 0s 3ms/step - loss: 1.2572 - accuracy: 0.0000e+00\n",
      "Epoch 23/30\n",
      "3/3 [==============================] - 0s 2ms/step - loss: 1.2572 - accuracy: 0.0000e+00\n",
      "Epoch 24/30\n",
      "3/3 [==============================] - 0s 2ms/step - loss: 1.2572 - accuracy: 0.0000e+00\n",
      "Epoch 25/30\n",
      "3/3 [==============================] - 0s 2ms/step - loss: 1.2572 - accuracy: 0.0000e+00\n",
      "Epoch 26/30\n",
      "3/3 [==============================] - 0s 2ms/step - loss: 1.2572 - accuracy: 0.0000e+00\n",
      "Epoch 27/30\n",
      "3/3 [==============================] - 0s 3ms/step - loss: 1.2572 - accuracy: 0.0000e+00\n",
      "Epoch 28/30\n",
      "3/3 [==============================] - 0s 2ms/step - loss: 1.2572 - accuracy: 0.0000e+00\n",
      "Epoch 29/30\n",
      "3/3 [==============================] - 0s 2ms/step - loss: 1.2572 - accuracy: 0.0000e+00\n",
      "Epoch 30/30\n",
      "3/3 [==============================] - 0s 2ms/step - loss: 1.2572 - accuracy: 0.0000e+00\n"
     ]
    }
   ],
   "source": [
    "trainedModel=myModel.fit(train_coord, y_train, epochs=30)\n",
    "                        #,validation_data=(X_valid, y_valid))"
   ]
  },
  {
   "cell_type": "code",
   "execution_count": 16,
   "metadata": {},
   "outputs": [
    {
     "data": {
      "text/plain": [
       "<AxesSubplot:>"
      ]
     },
     "execution_count": 16,
     "metadata": {},
     "output_type": "execute_result"
    },
    {
     "data": {
      "image/png": "[encoded data removed]",
      "text/plain": [
       "<Figure size 576x360 with 1 Axes>"
      ]
     },
     "metadata": {},
     "output_type": "display_data"
    }
   ],
   "source": [
    "import pandas as pd\n",
    "pd.DataFrame(trainedModel.history).plot(figsize=(8, 5))\n"
   ]
  },
  {
   "cell_type": "code",
   "execution_count": 19,
   "metadata": {},
   "outputs": [],
   "source": [
    "y_test=np.array([])\n",
    "for i in range (len(test_coord)):\n",
    "    y_test=np.append(y_test,(test_coord[i][0]**2+test_coord[i][1]**2))"
   ]
  },
  {
   "cell_type": "code",
   "execution_count": 20,
   "metadata": {},
   "outputs": [
    {
     "name": "stdout",
     "output_type": "stream",
     "text": [
      "1/1 [==============================] - 0s 873us/step - loss: 1.4089 - accuracy: 0.0000e+00\n"
     ]
    },
    {
     "data": {
      "text/plain": [
       "[1.4089382886886597, 0.0]"
      ]
     },
     "execution_count": 20,
     "metadata": {},
     "output_type": "execute_result"
    }
   ],
   "source": [
    "myModel.evaluate(test_coord, y_test)"
   ]
  },
  {
   "cell_type": "code",
   "execution_count": null,
   "metadata": {},
   "outputs": [],
   "source": []
  },
  {
   "cell_type": "code",
   "execution_count": 18,
   "metadata": {},
   "outputs": [],
   "source": [
    "a=np.array([])\n",
    "a=np.append(a,[1,2,3])"
   ]
  },
  {
   "cell_type": "code",
   "execution_count": 19,
   "metadata": {},
   "outputs": [
    {
     "data": {
      "text/plain": [
       "array([1., 2., 3.])"
      ]
     },
     "execution_count": 19,
     "metadata": {},
     "output_type": "execute_result"
    }
   ],
   "source": [
    "a"
   ]
  },
  {
   "cell_type": "code",
   "execution_count": null,
   "metadata": {},
   "outputs": [],
   "source": []
  },
  {
   "cell_type": "code",
   "execution_count": null,
   "metadata": {},
   "outputs": [],
   "source": []
  }
 ],
 "metadata": {
  "kernelspec": {
   "display_name": "Python 3",
   "language": "python",
   "name": "python3"
  },
  "language_info": {
   "codemirror_mode": {
    "name": "ipython",
    "version": 3
   },
   "file_extension": ".py",
   "mimetype": "text/x-python",
   "name": "python",
   "nbconvert_exporter": "python",
   "pygments_lexer": "ipython3",
   "version": "3.6.9"
  }
 },
 "nbformat": 4,
 "nbformat_minor": 2
}
